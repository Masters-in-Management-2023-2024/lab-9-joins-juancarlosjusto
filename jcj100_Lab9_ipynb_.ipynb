{
  "nbformat": 4,
  "nbformat_minor": 0,
  "metadata": {
    "colab": {
      "provenance": []
    },
    "kernelspec": {
      "name": "python3",
      "display_name": "Python 3"
    },
    "language_info": {
      "name": "python"
    }
  },
  "cells": [
    {
      "cell_type": "code",
      "execution_count": 1,
      "metadata": {
        "id": "z_NhrdHAPUe-"
      },
      "outputs": [],
      "source": [
        "import polars as pl"
      ]
    },
    {
      "cell_type": "code",
      "source": [
        "# Load bike trips and weather\n",
        "trips = pl.read_csv(\"https://raw.githubusercontent.com/philhetzel/opan5510-class9/refs/heads/main/data/bike_trips.csv\", null_values='NA')\n",
        "weather = pl.read_csv(\"https://raw.githubusercontent.com/philhetzel/opan5510-class9/refs/heads/main/data/bike_weather.csv\", null_values=['NA',''])\n",
        "\n",
        "trips = trips.with_columns(pl.col(\"date\").str.strptime(pl.Date, \"%Y-%m-%d\"))\n",
        "weather = weather.with_columns(pl.col(\"date\").str.strptime(pl.Date, \"%Y-%m-%d\"))\n",
        "\n",
        "print(trips.height)\n",
        "print(weather.height)"
      ],
      "metadata": {
        "colab": {
          "base_uri": "https://localhost:8080/"
        },
        "id": "CUpIMj76PbxG",
        "outputId": "e2c311f0-d671-4f51-dd07-876209b10c4f"
      },
      "execution_count": 2,
      "outputs": [
        {
          "output_type": "stream",
          "name": "stdout",
          "text": [
            "78704\n",
            "733\n"
          ]
        }
      ]
    },
    {
      "cell_type": "code",
      "source": [
        "# Question 1A: Join trips and weather\n",
        "trips_weather = trips.join(weather, on=\"date\", how=\"inner\")"
      ],
      "metadata": {
        "id": "5lCG5z5OPzi5"
      },
      "execution_count": 3,
      "outputs": []
    },
    {
      "cell_type": "code",
      "source": [
        "# Question 1B: Average duration of trips in bad weather\n",
        "avg_bad_weather = trips_weather.filter(pl.col(\"events\").is_not_null()).select(pl.col(\"duration\").mean().alias(\"avg_duration\"))\n",
        "print(avg_bad_weather)"
      ],
      "metadata": {
        "colab": {
          "base_uri": "https://localhost:8080/"
        },
        "id": "mENlSJI0P4TM",
        "outputId": "663ab0e6-4761-4cbb-c574-af41701ad7bc"
      },
      "execution_count": 4,
      "outputs": [
        {
          "output_type": "stream",
          "name": "stdout",
          "text": [
            "shape: (1, 1)\n",
            "┌──────────────┐\n",
            "│ avg_duration │\n",
            "│ ---          │\n",
            "│ f64          │\n",
            "╞══════════════╡\n",
            "│ 10.34899     │\n",
            "└──────────────┘\n"
          ]
        }
      ]
    },
    {
      "cell_type": "code",
      "source": [
        "# Load baseball datasets\n",
        "Batting = pl.read_csv(\"https://raw.githubusercontent.com/philhetzel/opan5510-class9/refs/heads/main/data/Batting.csv\", null_values='NA')\n",
        "People = pl.read_csv(\"https://raw.githubusercontent.com/philhetzel/opan5510-class9/refs/heads/main/data/People.csv\", null_values='NA')\n",
        "HallOfFame = pl.read_csv(\"https://raw.githubusercontent.com/philhetzel/opan5510-class9/refs/heads/main/data/HallOfFame.csv\", null_values='NA')\n"
      ],
      "metadata": {
        "id": "SHcooCopP8cY"
      },
      "execution_count": 5,
      "outputs": []
    },
    {
      "cell_type": "code",
      "source": [
        "# Question 2A: Join Batting and People\n",
        "stats_w_bio = Batting.join(People, on=\"playerID\", how=\"inner\")"
      ],
      "metadata": {
        "id": "fGDXScRDQEkx"
      },
      "execution_count": 6,
      "outputs": []
    },
    {
      "cell_type": "code",
      "source": [
        "# Question 2B: Total home runs by Florida-born players\n",
        "florida_hr = stats_w_bio.filter(pl.col(\"birthState\")==\"FL\").select(pl.col(\"HR\").sum().alias(\"total_hr\"))\n",
        "print(florida_hr)"
      ],
      "metadata": {
        "colab": {
          "base_uri": "https://localhost:8080/"
        },
        "id": "vsp9Xl2FQHeZ",
        "outputId": "32a21fb6-4bc7-4d4f-c67c-f91c729d5523"
      },
      "execution_count": 7,
      "outputs": [
        {
          "output_type": "stream",
          "name": "stdout",
          "text": [
            "shape: (1, 1)\n",
            "┌──────────┐\n",
            "│ total_hr │\n",
            "│ ---      │\n",
            "│ i64      │\n",
            "╞══════════╡\n",
            "│ 16225    │\n",
            "└──────────┘\n"
          ]
        }
      ]
    },
    {
      "cell_type": "code",
      "source": [
        "# Question 3A: Clean HallOfFame data\n",
        "hall_inducted = HallOfFame.filter((pl.col(\"inducted\")==\"Y\") & (pl.col(\"category\")==\"Player\")).select(\"playerID\").unique()"
      ],
      "metadata": {
        "id": "qvyKT1_AQJzu"
      },
      "execution_count": 8,
      "outputs": []
    },
    {
      "cell_type": "code",
      "source": [
        "# Question 3B: Average career hits for Hall of Fame players\n",
        "hof_hits = Batting.join(hall_inducted, on=\"playerID\", how=\"inner\") \\\n",
        "    .group_by(\"playerID\").agg(pl.col(\"H\").sum().alias(\"career_hits\")) \\\n",
        "    .select(pl.col(\"career_hits\").mean().alias(\"average_hits\"))\n",
        "print(hof_hits)"
      ],
      "metadata": {
        "colab": {
          "base_uri": "https://localhost:8080/"
        },
        "id": "GTJrYRdIQMMg",
        "outputId": "6c844f00-0bce-4707-d020-78390c0fe68a"
      },
      "execution_count": 9,
      "outputs": [
        {
          "output_type": "stream",
          "name": "stdout",
          "text": [
            "shape: (1, 1)\n",
            "┌──────────────┐\n",
            "│ average_hits │\n",
            "│ ---          │\n",
            "│ f64          │\n",
            "╞══════════════╡\n",
            "│ 1717.29918   │\n",
            "└──────────────┘\n"
          ]
        }
      ]
    }
  ]
}